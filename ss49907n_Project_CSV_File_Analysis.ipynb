{
 "cells": [
  {
   "cell_type": "code",
   "execution_count": 79,
   "metadata": {},
   "outputs": [],
   "source": [
    "__author__ = \"Swapna Savalgi\"\n",
    "__copyright__ = \"Copyright 2020, IS612_final\"\n",
    "__version__ = \"1.0\"\n",
    "__email__ = \"ss49907n@pace.edu\""
   ]
  },
  {
   "cell_type": "code",
   "execution_count": 169,
   "metadata": {},
   "outputs": [],
   "source": [
    "import pandas as pd\n",
    "import numpy as np\n",
    "import matplotlib.pyplot as plt"
   ]
  },
  {
   "cell_type": "markdown",
   "metadata": {},
   "source": [
    "# Data handling"
   ]
  },
  {
   "cell_type": "code",
   "execution_count": 170,
   "metadata": {},
   "outputs": [],
   "source": [
    "input_file = pd.read_csv('business_dynamics.csv')"
   ]
  },
  {
   "cell_type": "code",
   "execution_count": 171,
   "metadata": {},
   "outputs": [],
   "source": [
    "input_file = input_file.rename(columns = {'Data.DHS Denominator' : 'Denominator','Data.Number of Firms': 'Number_Of_Firms','Data.Calculated.Net Job Creation': 'Job_Creation','Data.Calculated.Net Job Creation Rate':'Job_Creation_Rate','Data.Calculated.Reallocation Rate':'Reallocation_Rate','Data.Establishments.Entered':'Establishments','Data.Establishments.Entered Rate':'Est_Entered_Rate','Data.Establishments.Exited':'Exited','Data.Establishments.Exited Rate':'Exited_Rate','Data.Establishments.Physical Locations':'Physical_Locations','Data.Firm Exits.Count':'Exit_Count','Data.Firm Exits.Establishment Exit':'Firm & Establishment_Exit','Data.Firm Exits.Job Destruction':'Job_Destruction','Data.Job Creation.Births':'Job_Creation_Births','Data.Job Creation.Continuers':'Job_Continuers','Data.Job Creation.Count':'Job_Creation_Count','Data.Job Creation.Rate':'Creation_Rate','Data.Job Creation.Rate/Births':'Job_Creation_Rate_Births','Data.Job Destruction.Continuers':'Destruction_Continuers','Data.Job Destruction.Count':'Destruction_Count','Data.Job Destruction.Deaths':'Destruction_Deaths','Data.Job Destruction.Rate':'Destruction_Rate','Data.Job Destruction.Rate/Deaths':'Destruction_Rate_Deaths'})"
   ]
  },
  {
   "cell_type": "code",
   "execution_count": 172,
   "metadata": {},
   "outputs": [
    {
     "data": {
      "text/html": [
       "<div>\n",
       "<style scoped>\n",
       "    .dataframe tbody tr th:only-of-type {\n",
       "        vertical-align: middle;\n",
       "    }\n",
       "\n",
       "    .dataframe tbody tr th {\n",
       "        vertical-align: top;\n",
       "    }\n",
       "\n",
       "    .dataframe thead th {\n",
       "        text-align: right;\n",
       "    }\n",
       "</style>\n",
       "<table border=\"1\" class=\"dataframe\">\n",
       "  <thead>\n",
       "    <tr style=\"text-align: right;\">\n",
       "      <th></th>\n",
       "      <th>State</th>\n",
       "      <th>Year</th>\n",
       "      <th>Denominator</th>\n",
       "      <th>Number_Of_Firms</th>\n",
       "      <th>Job_Creation</th>\n",
       "      <th>Job_Creation_Rate</th>\n",
       "      <th>Reallocation_Rate</th>\n",
       "      <th>Establishments</th>\n",
       "      <th>Est_Entered_Rate</th>\n",
       "      <th>Exited</th>\n",
       "      <th>...</th>\n",
       "      <th>Job_Creation_Births</th>\n",
       "      <th>Job_Continuers</th>\n",
       "      <th>Job_Creation_Count</th>\n",
       "      <th>Creation_Rate</th>\n",
       "      <th>Job_Creation_Rate_Births</th>\n",
       "      <th>Destruction_Continuers</th>\n",
       "      <th>Destruction_Count</th>\n",
       "      <th>Destruction_Deaths</th>\n",
       "      <th>Destruction_Rate</th>\n",
       "      <th>Destruction_Rate_Deaths</th>\n",
       "    </tr>\n",
       "  </thead>\n",
       "  <tbody>\n",
       "    <tr>\n",
       "      <th>0</th>\n",
       "      <td>Alabama</td>\n",
       "      <td>1977</td>\n",
       "      <td>933909</td>\n",
       "      <td>52371</td>\n",
       "      <td>46776</td>\n",
       "      <td>5.0</td>\n",
       "      <td>31.0</td>\n",
       "      <td>10634</td>\n",
       "      <td>17.2</td>\n",
       "      <td>8057</td>\n",
       "      <td>...</td>\n",
       "      <td>89869</td>\n",
       "      <td>101653</td>\n",
       "      <td>191522</td>\n",
       "      <td>20.5</td>\n",
       "      <td>9.6</td>\n",
       "      <td>85855</td>\n",
       "      <td>144746</td>\n",
       "      <td>58891</td>\n",
       "      <td>15.5</td>\n",
       "      <td>6.3</td>\n",
       "    </tr>\n",
       "    <tr>\n",
       "      <th>1</th>\n",
       "      <td>Alaska</td>\n",
       "      <td>1977</td>\n",
       "      <td>108134</td>\n",
       "      <td>6480</td>\n",
       "      <td>-1940</td>\n",
       "      <td>-1.8</td>\n",
       "      <td>69.4</td>\n",
       "      <td>2028</td>\n",
       "      <td>27.0</td>\n",
       "      <td>1564</td>\n",
       "      <td>...</td>\n",
       "      <td>19259</td>\n",
       "      <td>18286</td>\n",
       "      <td>37545</td>\n",
       "      <td>34.7</td>\n",
       "      <td>17.8</td>\n",
       "      <td>25981</td>\n",
       "      <td>39485</td>\n",
       "      <td>13504</td>\n",
       "      <td>36.5</td>\n",
       "      <td>12.5</td>\n",
       "    </tr>\n",
       "    <tr>\n",
       "      <th>2</th>\n",
       "      <td>Arizona</td>\n",
       "      <td>1977</td>\n",
       "      <td>589552</td>\n",
       "      <td>36477</td>\n",
       "      <td>29997</td>\n",
       "      <td>5.1</td>\n",
       "      <td>39.8</td>\n",
       "      <td>9379</td>\n",
       "      <td>22.0</td>\n",
       "      <td>6230</td>\n",
       "      <td>...</td>\n",
       "      <td>70645</td>\n",
       "      <td>76781</td>\n",
       "      <td>147426</td>\n",
       "      <td>25.0</td>\n",
       "      <td>12.0</td>\n",
       "      <td>72063</td>\n",
       "      <td>117429</td>\n",
       "      <td>45366</td>\n",
       "      <td>19.9</td>\n",
       "      <td>7.7</td>\n",
       "    </tr>\n",
       "    <tr>\n",
       "      <th>3</th>\n",
       "      <td>Arkansas</td>\n",
       "      <td>1977</td>\n",
       "      <td>529709</td>\n",
       "      <td>35499</td>\n",
       "      <td>42803</td>\n",
       "      <td>8.1</td>\n",
       "      <td>29.0</td>\n",
       "      <td>7291</td>\n",
       "      <td>18.3</td>\n",
       "      <td>5455</td>\n",
       "      <td>...</td>\n",
       "      <td>44527</td>\n",
       "      <td>75201</td>\n",
       "      <td>119728</td>\n",
       "      <td>22.6</td>\n",
       "      <td>8.4</td>\n",
       "      <td>44394</td>\n",
       "      <td>76925</td>\n",
       "      <td>32531</td>\n",
       "      <td>14.5</td>\n",
       "      <td>6.1</td>\n",
       "    </tr>\n",
       "    <tr>\n",
       "      <th>4</th>\n",
       "      <td>California</td>\n",
       "      <td>1977</td>\n",
       "      <td>6484959</td>\n",
       "      <td>362887</td>\n",
       "      <td>656693</td>\n",
       "      <td>10.1</td>\n",
       "      <td>33.4</td>\n",
       "      <td>88187</td>\n",
       "      <td>20.7</td>\n",
       "      <td>60589</td>\n",
       "      <td>...</td>\n",
       "      <td>779164</td>\n",
       "      <td>960214</td>\n",
       "      <td>1739378</td>\n",
       "      <td>26.8</td>\n",
       "      <td>12.0</td>\n",
       "      <td>594123</td>\n",
       "      <td>1082685</td>\n",
       "      <td>488562</td>\n",
       "      <td>16.7</td>\n",
       "      <td>7.5</td>\n",
       "    </tr>\n",
       "  </tbody>\n",
       "</table>\n",
       "<p>5 rows × 25 columns</p>\n",
       "</div>"
      ],
      "text/plain": [
       "        State  Year  Denominator  Number_Of_Firms  Job_Creation  \\\n",
       "0     Alabama  1977       933909            52371         46776   \n",
       "1      Alaska  1977       108134             6480         -1940   \n",
       "2     Arizona  1977       589552            36477         29997   \n",
       "3    Arkansas  1977       529709            35499         42803   \n",
       "4  California  1977      6484959           362887        656693   \n",
       "\n",
       "   Job_Creation_Rate  Reallocation_Rate  Establishments  Est_Entered_Rate  \\\n",
       "0                5.0               31.0           10634              17.2   \n",
       "1               -1.8               69.4            2028              27.0   \n",
       "2                5.1               39.8            9379              22.0   \n",
       "3                8.1               29.0            7291              18.3   \n",
       "4               10.1               33.4           88187              20.7   \n",
       "\n",
       "   Exited  ...  Job_Creation_Births  Job_Continuers  Job_Creation_Count  \\\n",
       "0    8057  ...                89869          101653              191522   \n",
       "1    1564  ...                19259           18286               37545   \n",
       "2    6230  ...                70645           76781              147426   \n",
       "3    5455  ...                44527           75201              119728   \n",
       "4   60589  ...               779164          960214             1739378   \n",
       "\n",
       "   Creation_Rate  Job_Creation_Rate_Births  Destruction_Continuers  \\\n",
       "0           20.5                       9.6                   85855   \n",
       "1           34.7                      17.8                   25981   \n",
       "2           25.0                      12.0                   72063   \n",
       "3           22.6                       8.4                   44394   \n",
       "4           26.8                      12.0                  594123   \n",
       "\n",
       "   Destruction_Count  Destruction_Deaths  Destruction_Rate  \\\n",
       "0             144746               58891              15.5   \n",
       "1              39485               13504              36.5   \n",
       "2             117429               45366              19.9   \n",
       "3              76925               32531              14.5   \n",
       "4            1082685              488562              16.7   \n",
       "\n",
       "   Destruction_Rate_Deaths  \n",
       "0                      6.3  \n",
       "1                     12.5  \n",
       "2                      7.7  \n",
       "3                      6.1  \n",
       "4                      7.5  \n",
       "\n",
       "[5 rows x 25 columns]"
      ]
     },
     "execution_count": 172,
     "metadata": {},
     "output_type": "execute_result"
    }
   ],
   "source": [
    "input_file.head()"
   ]
  },
  {
   "cell_type": "code",
   "execution_count": 173,
   "metadata": {},
   "outputs": [],
   "source": [
    "input_file = input_file.drop(columns = ['Job_Creation','Creation_Rate','Reallocation_Rate','Destruction_Count','Exited_Rate','Destruction_Rate','Destruction_Rate_Deaths','Job_Creation_Rate_Births','Job_Creation_Count','Establishments','Est_Entered_Rate','Exited','Physical_Locations','Firm & Establishment_Exit','Job_Destruction','Job_Creation_Births','Job_Continuers','Destruction_Continuers','Destruction_Deaths'])"
   ]
  },
  {
   "cell_type": "code",
   "execution_count": 174,
   "metadata": {},
   "outputs": [
    {
     "name": "stdout",
     "output_type": "stream",
     "text": [
      "<class 'pandas.core.frame.DataFrame'>\n",
      "RangeIndex: 1887 entries, 0 to 1886\n",
      "Data columns (total 6 columns):\n",
      " #   Column             Non-Null Count  Dtype  \n",
      "---  ------             --------------  -----  \n",
      " 0   State              1887 non-null   object \n",
      " 1   Year               1887 non-null   int64  \n",
      " 2   Denominator        1887 non-null   int64  \n",
      " 3   Number_Of_Firms    1887 non-null   int64  \n",
      " 4   Job_Creation_Rate  1887 non-null   float64\n",
      " 5   Exit_Count         1887 non-null   int64  \n",
      "dtypes: float64(1), int64(4), object(1)\n",
      "memory usage: 88.6+ KB\n"
     ]
    }
   ],
   "source": [
    "input_file.info()"
   ]
  },
  {
   "cell_type": "code",
   "execution_count": 175,
   "metadata": {},
   "outputs": [],
   "source": [
    "new_dict= input_file.to_dict('dict')   #to view it in a nested dictionary form , change the argument to dict\n",
    "#print(new_dict)"
   ]
  },
  {
   "cell_type": "code",
   "execution_count": 176,
   "metadata": {},
   "outputs": [],
   "source": [
    "new_dict= input_file.to_dict('index')   #to view it in a index form , change the argument to index\n",
    "#print(new_dict)"
   ]
  },
  {
   "cell_type": "code",
   "execution_count": 177,
   "metadata": {},
   "outputs": [
    {
     "name": "stdout",
     "output_type": "stream",
     "text": [
      "<class 'dict'>\n"
     ]
    }
   ],
   "source": [
    "d= input_file.to_dict('list')\n",
    "print(type(d))\n"
   ]
  },
  {
   "cell_type": "code",
   "execution_count": 178,
   "metadata": {},
   "outputs": [],
   "source": [
    "keys_extraction = ['Number_Of_Firms','Exit_Count']   #filtering dictionary contents and extracting only the columns that we want to analyze\n",
    "X = {k:d[k] for k in keys_extraction} #assigning a new variable which contains the keys and values of the metioned columns\n",
    "#print(X)"
   ]
  },
  {
   "cell_type": "code",
   "execution_count": 179,
   "metadata": {},
   "outputs": [
    {
     "name": "stdout",
     "output_type": "stream",
     "text": [
      "<class 'dict'>\n"
     ]
    }
   ],
   "source": [
    "#Histogram\n",
    "print(type(X))"
   ]
  },
  {
   "cell_type": "code",
   "execution_count": 180,
   "metadata": {},
   "outputs": [
    {
     "data": {
      "text/plain": [
       "[None, None]"
      ]
     },
     "execution_count": 180,
     "metadata": {},
     "output_type": "execute_result"
    }
   ],
   "source": [
    "l = [] \n",
    "[l.extend([k,v]) for k,v in X.items()]\n",
    "#print(l)"
   ]
  },
  {
   "cell_type": "code",
   "execution_count": 181,
   "metadata": {},
   "outputs": [],
   "source": [
    "l.remove('Number_Of_Firms')\n",
    "l.remove('Exit_Count')"
   ]
  },
  {
   "cell_type": "markdown",
   "metadata": {},
   "source": [
    "# Calcualting Measures of Central Tendency"
   ]
  },
  {
   "cell_type": "code",
   "execution_count": 187,
   "metadata": {},
   "outputs": [
    {
     "name": "stdout",
     "output_type": "stream",
     "text": [
      "The maximum number of firms: 627092\n",
      "The maximum exited firms: 62297\n",
      "The minimum number of firms: 6480\n",
      "The minimum exited firms: 20\n"
     ]
    }
   ],
   "source": [
    "print('The maximum number of firms:',max(l[0]))\n",
    "print('The maximum exited firms:',max(l[1]))\n",
    "print('The minimum number of firms:',min(l[0]))\n",
    "print('The minimum exited firms:', min(l[1]))"
   ]
  },
  {
   "cell_type": "code",
   "execution_count": 198,
   "metadata": {},
   "outputs": [
    {
     "name": "stdout",
     "output_type": "stream",
     "text": [
      "Average number of firms: 90506.22204557499\n",
      "Average exit count: 7588.434022257552\n"
     ]
    }
   ],
   "source": [
    "import statistics\n",
    "avg_nof =statistics.mean(l[0])\n",
    "print('Average number of firms:',avg_nof)\n",
    "avg_ec = statistics.mean(l[1])\n",
    "print('Average exit count:',avg_ec)"
   ]
  },
  {
   "cell_type": "markdown",
   "metadata": {},
   "source": [
    "# Visualization"
   ]
  },
  {
   "cell_type": "markdown",
   "metadata": {},
   "source": [
    "We have plotted 4 graphs to understnad the behaviour of each variable:\n",
    "\n",
    "\n",
    "1. To understand how Denominator is moving when Number of firms increased using scatterplot\n",
    "2. To visualize the distribution of Number of Firms and Exit Counts, we will work on HIstogram\n",
    "3. To show which state had the highest denominator back in 1977"
   ]
  },
  {
   "cell_type": "code",
   "execution_count": 216,
   "metadata": {},
   "outputs": [
    {
     "data": {
      "text/plain": [
       "Text(0, 0.5, 'Number_Of_Firms')"
      ]
     },
     "execution_count": 216,
     "metadata": {},
     "output_type": "execute_result"
    },
    {
     "data": {
      "image/png": "[encoded data removed]",
      "text/plain": [
       "<Figure size 432x288 with 1 Axes>"
      ]
     },
     "metadata": {
      "needs_background": "light"
     },
     "output_type": "display_data"
    }
   ],
   "source": [
    "plt.scatter(d['Denominator'],d['Number_Of_Firms'], color = 'purple')\n",
    "plt.xlabel('Denominator')\n",
    "plt.ylabel('Number_Of_Firms')"
   ]
  },
  {
   "cell_type": "markdown",
   "metadata": {},
   "source": [
    "It is strongly correlated to each other .When,Number of firms increaseds,denomitor too has increased. Thus, forming a regression line"
   ]
  },
  {
   "cell_type": "markdown",
   "metadata": {},
   "source": [
    "To visualize the distribution of Number of Firms and Exit Counts, we will work on HIstogram"
   ]
  },
  {
   "cell_type": "code",
   "execution_count": 200,
   "metadata": {},
   "outputs": [
    {
     "data": {
      "text/plain": [
       "Text(0.5, 1.0, 'Total Number of Firms from year 1977 - 2013')"
      ]
     },
     "execution_count": 200,
     "metadata": {},
     "output_type": "execute_result"
    },
    {
     "data": {
      "image/png": "[encoded data removed]",
      "text/plain": [
       "<Figure size 432x288 with 1 Axes>"
      ]
     },
     "metadata": {
      "needs_background": "light"
     },
     "output_type": "display_data"
    }
   ],
   "source": [
    "plt.hist(l[0], color ='darkblue')\n",
    "plt.xlabel('Number of Firms')\n",
    "plt.title('Total Number of Firms from year 1977 - 2013')"
   ]
  },
  {
   "cell_type": "markdown",
   "metadata": {},
   "source": [
    "This graph shows that how the values of Number of firms are distributed during the year 1977.In statistic terms, this is right skewed distribution."
   ]
  },
  {
   "cell_type": "code",
   "execution_count": 201,
   "metadata": {},
   "outputs": [
    {
     "data": {
      "text/plain": [
       "Text(0.5, 1.0, ' Firm Exit Counts from year 1977 - 2013')"
      ]
     },
     "execution_count": 201,
     "metadata": {},
     "output_type": "execute_result"
    },
    {
     "data": {
      "image/png": "[encoded data removed]",
      "text/plain": [
       "<Figure size 432x288 with 1 Axes>"
      ]
     },
     "metadata": {
      "needs_background": "light"
     },
     "output_type": "display_data"
    }
   ],
   "source": [
    "plt.hist(l[1], color ='green')\n",
    "plt.xlabel('Exit Counts')\n",
    "plt.title(' Firm Exit Counts from year 1977 - 2013')"
   ]
  },
  {
   "cell_type": "markdown",
   "metadata": {},
   "source": [
    "Below graphs will show which state had the highest denominator back in 1977"
   ]
  },
  {
   "cell_type": "code",
   "execution_count": 234,
   "metadata": {},
   "outputs": [
    {
     "data": {
      "text/plain": [
       "Text(0, 0.5, 'Denominator')"
      ]
     },
     "execution_count": 234,
     "metadata": {},
     "output_type": "execute_result"
    },
    {
     "data": {
      "image/png": "[encoded data removed]",
      "text/plain": [
       "<Figure size 432x288 with 1 Axes>"
      ]
     },
     "metadata": {
      "needs_background": "light"
     },
     "output_type": "display_data"
    }
   ],
   "source": [
    "plt.bar(d['State'][0:6],d['Denominator'][0:6],color='Grey')\n",
    "plt.xlabel('State')\n",
    "plt.ylabel('Denominator')"
   ]
  },
  {
   "cell_type": "markdown",
   "metadata": {},
   "source": [
    "California had the highest denominator then Albama."
   ]
  }
 ],
 "metadata": {
  "kernelspec": {
   "display_name": "Python 3",
   "language": "python",
   "name": "python3"
  },
  "language_info": {
   "codemirror_mode": {
    "name": "ipython",
    "version": 3
   },
   "file_extension": ".py",
   "mimetype": "text/x-python",
   "name": "python",
   "nbconvert_exporter": "python",
   "pygments_lexer": "ipython3",
   "version": "3.8.5"
  }
 },
 "nbformat": 4,
 "nbformat_minor": 4
}
