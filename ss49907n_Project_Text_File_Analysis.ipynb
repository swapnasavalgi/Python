{
 "cells": [
  {
   "cell_type": "code",
   "execution_count": 92,
   "metadata": {},
   "outputs": [],
   "source": [
    "__author__ = \"Swapna Savalgi\"\n",
    "__copyright__ = \"Copyright 2020, IS612_final\"\n",
    "__version__ = \"1.0\"\n",
    "__email__ = \"ss49907n@pace.edu\""
   ]
  },
  {
   "cell_type": "markdown",
   "metadata": {},
   "source": [
    "# Text Mining"
   ]
  },
  {
   "cell_type": "markdown",
   "metadata": {},
   "source": [
    "File Loading"
   ]
  },
  {
   "cell_type": "code",
   "execution_count": 149,
   "metadata": {},
   "outputs": [
    {
     "name": "stdout",
     "output_type": "stream",
     "text": [
      "Total_sentence: 563\n"
     ]
    }
   ],
   "source": [
    "with open ('HHCR.txt', 'rt') as myfile:\n",
    "    mylist = myfile.read()      #read method will return text in the form of string\n",
    "    total_sentence = mylist.count('.') + mylist.count('?') + mylist.count('!')\n",
    "    print(\"Total_sentence:\" , total_sentence)\n",
    "    "
   ]
  },
  {
   "cell_type": "code",
   "execution_count": 136,
   "metadata": {},
   "outputs": [],
   "source": [
    "mylist = mylist.lower()     #used lower function to maintain uniformity \n",
    "#print(mylist)"
   ]
  },
  {
   "cell_type": "markdown",
   "metadata": {},
   "source": [
    "Number of lines in a Text File"
   ]
  },
  {
   "cell_type": "code",
   "execution_count": 140,
   "metadata": {},
   "outputs": [
    {
     "name": "stdout",
     "output_type": "stream",
     "text": [
      "Total Lines: 1175\n"
     ]
    }
   ],
   "source": [
    "Counter = 0\n",
    "Colist = mylist.split(\"\\n\")\n",
    "for i in Colist:\n",
    "    if i:\n",
    "        Counter += 1\n",
    "print(\"Total Lines:\" ,Counter)     #This will give the length of lines in mylist"
   ]
  },
  {
   "cell_type": "code",
   "execution_count": 109,
   "metadata": {},
   "outputs": [],
   "source": [
    "string_list = mylist.split()    #lines will be converted to words\n",
    "#print(string_list)"
   ]
  },
  {
   "cell_type": "markdown",
   "metadata": {},
   "source": [
    "Number of words in the lines"
   ]
  },
  {
   "cell_type": "code",
   "execution_count": 147,
   "metadata": {},
   "outputs": [
    {
     "name": "stdout",
     "output_type": "stream",
     "text": [
      "Total words: 12946\n"
     ]
    }
   ],
   "source": [
    "print(\"Total words:\", len(string_list))"
   ]
  },
  {
   "cell_type": "code",
   "execution_count": 111,
   "metadata": {},
   "outputs": [],
   "source": [
    "#print(string_list)  #checking the type of string_list is in list form"
   ]
  },
  {
   "cell_type": "markdown",
   "metadata": {},
   "source": [
    "- creating a list of words that needs to be excluded and \n",
    "- creating another empty list variable to insert the strings in the new variable\n"
   ]
  },
  {
   "cell_type": "code",
   "execution_count": 148,
   "metadata": {},
   "outputs": [],
   "source": [
    "delete_list = [\"a\",\"an\",\"and\",\"are\",\"as\",\"not\",\"like\",\"into\",\"their\",\"at\",\"be\",\"by\",\"but\",\"for\",\"from\",\"has\",\"he\",\"in\",\"if\",\"is\",\"it\",\"its\",\"of\",\"on\",\"that\",\"the\",\"to\",\"then\",\"there\",\"was\",\"were\",\"will\",\"with\",\"why\",\"would\",\"had\",\"which\",\"you\",\"could\",\"his\",\"this\",\"they\",\"or\",\"who\"]\n",
    "final_list = [] #empty list variable to insert the strings in the new variable\n",
    "for i in string_list:\n",
    "    if i not in delete_list:\n",
    "        final_list.append(i)\n",
    "#print(final_list)"
   ]
  },
  {
   "cell_type": "markdown",
   "metadata": {},
   "source": [
    "Importing Collections to find most_common and least_common words in file"
   ]
  },
  {
   "cell_type": "code",
   "execution_count": 113,
   "metadata": {},
   "outputs": [
    {
     "name": "stdout",
     "output_type": "stream",
     "text": [
      "[('computer', 75), ('one', 58), ('program', 57), ('samson', 39), ('hackers', 38)]\n"
     ]
    }
   ],
   "source": [
    "import collections\n",
    "counts_no_urls = collections.Counter(final_list)\n",
    "#print(counts_no_urls)\n",
    "#most_common returns a list of n most common elements.\n",
    "most_common = counts_no_urls.most_common(5)\n",
    "print(most_common)\n"
   ]
  },
  {
   "cell_type": "code",
   "execution_count": 114,
   "metadata": {},
   "outputs": [
    {
     "name": "stdout",
     "output_type": "stream",
     "text": [
      "computer        : 75\n",
      "one             : 58\n",
      "program         : 57\n",
      "samson          : 39\n",
      "hackers         : 38\n"
     ]
    }
   ],
   "source": [
    "for i in most_common:\n",
    "    print('{:15}'.format(i[0]),\":\", i[1])"
   ]
  },
  {
   "cell_type": "code",
   "execution_count": 183,
   "metadata": {},
   "outputs": [
    {
     "name": "stdout",
     "output_type": "stream",
     "text": [
      "('levy', 1)\n"
     ]
    }
   ],
   "source": [
    "counts_no_urls = collections.Counter(final_list)\n",
    "least_common = counts_no_urls.most_common()[-1]\n",
    "print(least_common)"
   ]
  },
  {
   "cell_type": "code",
   "execution_count": 169,
   "metadata": {},
   "outputs": [
    {
     "name": "stdout",
     "output_type": "stream",
     "text": [
      "Total Sentences:    563    \n",
      "Total Lines:        1175        \n",
      "Total Words:       12946        \n"
     ]
    }
   ],
   "source": [
    "print(f'Total Sentences: {total_sentence:^10}')\n",
    "print(f'Total Lines:{Counter:^20}')\n",
    "print(f'Total Words:{len(string_list):^20}')\n"
   ]
  }
 ],
 "metadata": {
  "kernelspec": {
   "display_name": "Python 3",
   "language": "python",
   "name": "python3"
  },
  "language_info": {
   "codemirror_mode": {
    "name": "ipython",
    "version": 3
   },
   "file_extension": ".py",
   "mimetype": "text/x-python",
   "name": "python",
   "nbconvert_exporter": "python",
   "pygments_lexer": "ipython3",
   "version": "3.8.5"
  }
 },
 "nbformat": 4,
 "nbformat_minor": 4
}
